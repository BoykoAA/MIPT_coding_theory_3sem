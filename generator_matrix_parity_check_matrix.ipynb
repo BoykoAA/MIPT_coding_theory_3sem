{
 "cells": [
  {
   "cell_type": "code",
   "execution_count": 13,
   "metadata": {},
   "outputs": [],
   "source": [
    "import numpy as np\n",
    "import scipy.linalg\n",
    "\n",
    "def nullspace(A, atol=1e-13, rtol=0):\n",
    "    A = np.atleast_2d(A)\n",
    "    u, s, vh = np.linalg.svd(A)\n",
    "    tol = max(atol, rtol * s[0])\n",
    "#     nnz = (s >= tol).sum()\n",
    "#     nnz = s.sum()\n",
    "    nnz = (s > 0).sum()\n",
    "#     ns = vh[nnz:].conj().T\n",
    "    ns = vh[nnz:].T\n",
    "    return ns"
   ]
  },
  {
   "cell_type": "code",
   "execution_count": 18,
   "metadata": {},
   "outputs": [],
   "source": [
    "from operator import add\n",
    "from itertools import chain, combinations\n",
    "from functools import reduce\n",
    "\n",
    "import numpy as np\n",
    "from scipy import ndimage"
   ]
  },
  {
   "cell_type": "code",
   "execution_count": 14,
   "metadata": {},
   "outputs": [],
   "source": [
    "H = np.mat( [[1,1,1,1,0,0],\n",
    "             [0,0,1,1,0,1],\n",
    "             [1,0,0,1,1,0]] )\n",
    "\n",
    "G = np.mat( [[1,0,0,1,0,1],\n",
    "             [0,1,0,1,1,1],\n",
    "             [0,0,1,1,1,0]] )"
   ]
  },
  {
   "cell_type": "code",
   "execution_count": 15,
   "metadata": {},
   "outputs": [],
   "source": [
    "GT2 = nullspace(H)\n",
    "G2 = GT2.T"
   ]
  },
  {
   "cell_type": "code",
   "execution_count": 16,
   "metadata": {},
   "outputs": [
    {
     "data": {
      "text/plain": [
       "matrix([[-0.58663655,  0.3077577 , -0.33168172,  0.61056057, -0.02392402,\n",
       "         -0.27887885],\n",
       "        [-0.38943943,  0.27392402,  0.4232731 , -0.3077577 ,  0.69719713,\n",
       "         -0.1155154 ],\n",
       "        [ 0.06476489,  0.57467454, -0.45915914, -0.18028029,  0.1155154 ,\n",
       "          0.63943943]])"
      ]
     },
     "execution_count": 16,
     "metadata": {},
     "output_type": "execute_result"
    }
   ],
   "source": [
    "G2"
   ]
  },
  {
   "cell_type": "code",
   "execution_count": null,
   "metadata": {},
   "outputs": [],
   "source": []
  },
  {
   "cell_type": "code",
   "execution_count": null,
   "metadata": {},
   "outputs": [],
   "source": [
    "def gjel(A):\n",
    "    \"\"\"Gauss-Jordan elimination.\"\"\"\n",
    "    nulldim = 0\n",
    "    for i, row1 in enumerate(A):\n",
    "        pivot = A[i:, i].argmax() + i\n",
    "        if A[pivot, i] == 0:\n",
    "            nulldim = len(A) - i\n",
    "            break\n",
    "        new_row = A[pivot] / A[pivot, i]\n",
    "        A[pivot] = A[i]\n",
    "        row1[:] = new_row\n",
    "        \n",
    "        for j, row2 in enumerate(A):\n",
    "            if j == i:\n",
    "                continue\n",
    "            row2[:] -= new_row*A[j, i]\n",
    "    return A, nulldim"
   ]
  },
  {
   "cell_type": "code",
   "execution_count": null,
   "metadata": {},
   "outputs": [],
   "source": []
  },
  {
   "cell_type": "code",
   "execution_count": null,
   "metadata": {},
   "outputs": [],
   "source": []
  },
  {
   "cell_type": "code",
   "execution_count": 19,
   "metadata": {},
   "outputs": [],
   "source": [
    "G = np.mat( [[1,1,1,1,0,0],\n",
    "             [0,0,1,1,0,1],\n",
    "             [1,0,0,1,1,0]] )"
   ]
  },
  {
   "cell_type": "code",
   "execution_count": 21,
   "metadata": {},
   "outputs": [],
   "source": [
    "def gjel(A):\n",
    "    \"\"\"Gauss-Jordan elimination.\"\"\"\n",
    "    nulldim = 0\n",
    "    for i, row1 in enumerate(A):\n",
    "        pivot = A[i:, i].argmax() + i\n",
    "        if A[pivot, i] == 0:\n",
    "            nulldim = (len(A) - i) % 2 #####\n",
    "            break\n",
    "        new_row = (A[pivot] * A[pivot, i]) % 2 #####\n",
    "        A[pivot] = A[i]\n",
    "        row1[:] = new_row\n",
    "        \n",
    "        for j, row2 in enumerate(A):\n",
    "            if j == i:\n",
    "                continue\n",
    "            row2[:] = (row2[:] - new_row*A[j, i]) % 2 ####\n",
    "    return A, nulldim"
   ]
  },
  {
   "cell_type": "code",
   "execution_count": 35,
   "metadata": {},
   "outputs": [
    {
     "data": {
      "text/plain": [
       "matrix([[1, 1, 1],\n",
       "        [1, 1, 0],\n",
       "        [0, 1, 1]])"
      ]
     },
     "execution_count": 35,
     "metadata": {},
     "output_type": "execute_result"
    }
   ],
   "source": [
    "(- gjel(H)[0][:,3:].T) % 2"
   ]
  },
  {
   "cell_type": "code",
   "execution_count": 40,
   "metadata": {},
   "outputs": [
    {
     "data": {
      "text/plain": [
       "matrix([[1., 1., 1., 1., 0., 0.],\n",
       "        [1., 1., 0., 0., 1., 0.],\n",
       "        [0., 1., 1., 0., 0., 1.]])"
      ]
     },
     "execution_count": 40,
     "metadata": {},
     "output_type": "execute_result"
    }
   ],
   "source": [
    "np.hstack((((- gjel(H)[0][:,3:].T) % 2), np.eye(3,3)))"
   ]
  },
  {
   "cell_type": "code",
   "execution_count": null,
   "metadata": {},
   "outputs": [],
   "source": []
  },
  {
   "cell_type": "code",
   "execution_count": null,
   "metadata": {},
   "outputs": [],
   "source": []
  },
  {
   "cell_type": "code",
   "execution_count": 32,
   "metadata": {},
   "outputs": [
    {
     "data": {
      "text/plain": [
       "matrix([[1, 1, 0],\n",
       "        [1, 1, 1],\n",
       "        [1, 0, 1]])"
      ]
     },
     "execution_count": 32,
     "metadata": {},
     "output_type": "execute_result"
    }
   ],
   "source": [
    "gjel(H)[0][:,3:]"
   ]
  },
  {
   "cell_type": "code",
   "execution_count": null,
   "metadata": {},
   "outputs": [],
   "source": []
  }
 ],
 "metadata": {
  "kernelspec": {
   "display_name": "Python 3",
   "language": "python",
   "name": "python3"
  },
  "language_info": {
   "codemirror_mode": {
    "name": "ipython",
    "version": 3
   },
   "file_extension": ".py",
   "mimetype": "text/x-python",
   "name": "python",
   "nbconvert_exporter": "python",
   "pygments_lexer": "ipython3",
   "version": "3.6.4"
  }
 },
 "nbformat": 4,
 "nbformat_minor": 2
}
