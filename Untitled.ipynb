{
 "cells": [
  {
   "cell_type": "code",
   "execution_count": 6,
   "metadata": {},
   "outputs": [
    {
     "name": "stdout",
     "output_type": "stream",
     "text": [
      "distance: 3\n",
      "generator matrix:\n",
      "0011000\n",
      "1010100\n",
      "0110010\n",
      "1110001\n"
     ]
    }
   ],
   "source": [
    "import numpy as np\n",
    "import sys\n",
    "import scipy.linalg\n",
    "import sympy\n",
    "\n",
    "\n",
    "# c = 0\n",
    "# for number, line in enumerate(sys.stdin):\n",
    "#     if number == 0:\n",
    "#         q = line.split(' ')[1]\n",
    "#     if number == 1:\n",
    "#         type_mat = line\n",
    "#     if number > 1:\n",
    "#         if c == 0:\n",
    "#             line = line.split('\\n')[0]\n",
    "#             matrix = list(map(int, line))\n",
    "#             matrix = np.mat(matrix)\n",
    "#             c += 1\n",
    "#         else:\n",
    "#             line = line.split('\\n')[0]\n",
    "#             line_mat = list(map(int, line))\n",
    "#             matrix = np.vstack((matrix, line_mat))\n",
    "\n",
    "def gjel(A, p):\n",
    "    \"\"\"Gauss-Jordan elimination.\"\"\"\n",
    "    nulldim = 0\n",
    "    for i, row1 in enumerate(A):\n",
    "        pivot = A[i:, i].argmax() + i\n",
    "        if A[pivot, i] == 0:\n",
    "            nulldim = (len(A) - i) % p #####\n",
    "            break\n",
    "        new_row = (A[pivot] * A[pivot, i]) % p #####\n",
    "        A[pivot] = A[i]\n",
    "        row1[:] = new_row\n",
    "        \n",
    "        for j, row2 in enumerate(A):\n",
    "            if j == i:\n",
    "                continue\n",
    "            row2[:] = (row2[:] - new_row*A[j, i]) % p ####\n",
    "    return A, nulldim\n",
    "\n",
    "def transforms(matrix, field):\n",
    "    k, n = matrix.shape\n",
    "    matrix = gjel(matrix, p=field)[0]\n",
    "    new_matrix = np.hstack((-matrix[:,k:].T, np.diag([1]*(n-k))) ) % field\n",
    "    \n",
    "    return new_matrix\n",
    "\n",
    "\n",
    "matrix = np.mat([ [0,0,0,1,1,1,1],\n",
    "           [0,1,1,0,0,1,1],\n",
    "           [1,0,1,0,1,0,1]])\n",
    "type_mat = 'parity 1'\n",
    "\n",
    "q = int(2)\n",
    "\n",
    "if type_mat.split(' ')[0] == 'parity':\n",
    "    H = matrix\n",
    "    G = transforms(matrix=matrix, field=q)\n",
    "    d = len(sympy.Matrix(H).T.rref()[1])\n",
    "    print('distance: ' + str(d))\n",
    "    print('generator matrix:')\n",
    "    for strng in range(G.shape[0]):\n",
    "        print(''.join([str(i) for i in np.array(G[strng]).flatten()]))\n",
    "    \n",
    "    \n",
    "    \n",
    "if type_mat.split(' ')[0] == 'generator':\n",
    "    G = matrix\n",
    "    H = transforms(matrix=matrix, field=q)\n",
    "    d = len(sympy.Matrix(H).T.rref()[1])\n",
    "    print('distance: ' + str(d))\n",
    "    print('parity check matrix:')    \n",
    "    for strng in range(H.shape[0]):\n",
    "        print(''.join([str(i) for i in np.array(H[strng]).flatten()]))\n",
    "\n"
   ]
  },
  {
   "cell_type": "code",
   "execution_count": 7,
   "metadata": {},
   "outputs": [
    {
     "name": "stdout",
     "output_type": "stream",
     "text": [
      "1110000\n",
      "1001100\n",
      "0101010\n",
      "1101001\n"
     ]
    }
   ],
   "source": [
    "first = ['1110000',\n",
    "'1001100',\n",
    "'0101010',\n",
    "'1101001']\n",
    "\n",
    "for i in first:\n",
    "    print(i)"
   ]
  },
  {
   "cell_type": "code",
   "execution_count": null,
   "metadata": {},
   "outputs": [],
   "source": []
  }
 ],
 "metadata": {
  "kernelspec": {
   "display_name": "Python 3",
   "language": "python",
   "name": "python3"
  },
  "language_info": {
   "codemirror_mode": {
    "name": "ipython",
    "version": 3
   },
   "file_extension": ".py",
   "mimetype": "text/x-python",
   "name": "python",
   "nbconvert_exporter": "python",
   "pygments_lexer": "ipython3",
   "version": "3.7.3"
  }
 },
 "nbformat": 4,
 "nbformat_minor": 2
}
