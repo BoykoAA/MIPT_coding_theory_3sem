{
 "cells": [
  {
   "cell_type": "code",
   "execution_count": 1,
   "metadata": {},
   "outputs": [
    {
     "name": "stdout",
     "output_type": "stream",
     "text": [
      "6\n",
      "0.1\n",
      "0.2\n",
      "0.3\n",
      "0.4\n",
      "0\n",
      "0\n",
      "1101\n",
      "111\n",
      "10\n",
      "0\n",
      "11000\n",
      "11001\n"
     ]
    }
   ],
   "source": [
    "import collections\n",
    "\n",
    "def popmin(tree, codes, num):\n",
    "    el = tree.pop(tree.index(min(tree)))\n",
    "    for s in el[1]:\n",
    "        codes[s] = num + codes[s]\n",
    "    return el[0], el[1]\n",
    "\n",
    "def main():\n",
    "    n = input()\n",
    "    freqq = [] \n",
    "    for i in range(int(n)):\n",
    "        f = input()\n",
    "        freqq.append(float(f))\n",
    "    \n",
    "    sss     = [str(i) for i in range(int(n))]\n",
    "#     count   = collections.Counter(sss)\n",
    "    count   = {str(s) : i for s, i in enumerate(freqq)}\n",
    "    codes   = dict.fromkeys(count, '0' if len(count) == 1 else '')\n",
    "    tree    = [[count[key], key] for key in count]    \n",
    "    while len(tree) > 1:\n",
    "        val1, s1 = popmin(tree, codes, '0')\n",
    "        val2, s2 = popmin(tree, codes, '1')\n",
    "        tree.append([val1 + val2, s1 + s2])         \n",
    "    word = ''.join(codes[s] for s in sss)\n",
    "#     print(len(count), len(word))\n",
    "#     [print('{}: {}'.format(k, codes[k])) for k in sorted(codes)]\n",
    "    [print('{}'.format(codes[k])) for k in sorted(codes)]\n",
    "\n",
    "#     print(word)\n",
    "    \n",
    "if __name__ == '__main__':\n",
    "    main()"
   ]
  },
  {
   "cell_type": "code",
   "execution_count": null,
   "metadata": {},
   "outputs": [],
   "source": []
  }
 ],
 "metadata": {
  "kernelspec": {
   "display_name": "Python 3",
   "language": "python",
   "name": "python3"
  },
  "language_info": {
   "codemirror_mode": {
    "name": "ipython",
    "version": 3
   },
   "file_extension": ".py",
   "mimetype": "text/x-python",
   "name": "python",
   "nbconvert_exporter": "python",
   "pygments_lexer": "ipython3",
   "version": "3.6.4"
  }
 },
 "nbformat": 4,
 "nbformat_minor": 2
}
